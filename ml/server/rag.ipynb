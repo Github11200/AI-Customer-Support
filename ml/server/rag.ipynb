{
 "cells": [
  {
   "cell_type": "code",
   "execution_count": 113,
   "id": "20fb31a0-df4d-4c23-a932-ef8bc7fe5914",
   "metadata": {
    "scrolled": true
   },
   "outputs": [],
   "source": [
    "from langchain_community.chat_models import ChatOpenAI\n",
    "from langchain_community.embeddings import HuggingFaceEmbeddings\n",
    "from langchain_community.vectorstores import Pinecone\n",
    "from langchain_core.output_parsers import StrOutputParser\n",
    "from langchain_core.prompts import ChatPromptTemplate\n",
    "from langchain_core.runnables import RunnableParallel, RunnablePassthrough, RunnableLambda\n",
    "from langchain.text_splitter import RecursiveCharacterTextSplitter\n",
    "from langchain_community.document_loaders import HuggingFaceDatasetLoader, YoutubeLoader\n",
    "from langchain_community.chat_models import ChatOpenAI\n",
    "from langchain_pinecone import PineconeVectorStore\n",
    "from langchain.vectorstores import Pinecone\n",
    "from sklearn.metrics.pairwise import cosine_similarity\n",
    "from dotenv import load_dotenv\n",
    "from openai import OpenAI\n",
    "import tiktoken\n",
    "import numpy as np\n",
    "import os\n",
    "\n",
    "load_dotenv()\n",
    "\n",
    "OPEN_ROUTER_API_KEY = os.getenv(\"OPEN_ROUTER_API_KEY\")\n",
    "PINECONE_API_KEY = os.getenv(\"PINECONE_API_KEY\")"
   ]
  },
  {
   "cell_type": "code",
   "execution_count": 114,
   "id": "d6a7d213-dc79-44e3-80b8-564a9ea7142d",
   "metadata": {},
   "outputs": [
    {
     "name": "stderr",
     "output_type": "stream",
     "text": [
      "/home/user/miniconda3/lib/python3.12/site-packages/transformers/tokenization_utils_base.py:1601: FutureWarning: `clean_up_tokenization_spaces` was not set. It will be set to `True` by default. This behavior will be depracted in transformers v4.45, and will be then set to `False` by default. For more details check this issue: https://github.com/huggingface/transformers/issues/31884\n",
      "  warnings.warn(\n"
     ]
    }
   ],
   "source": [
    "hf_embeddings = HuggingFaceEmbeddings(model_name=\"sentence-transformers/bert-large-nli-max-tokens\")\n",
    "vectorstore = PineconeVectorStore(index_name=\"customer-support\", embedding=hf_embeddings)\n",
    "vectorstore = vectorstore.from_existing_index(index_name=\"customer-support\",\n",
    "                                           embedding=hf_embeddings)\n",
    "\n",
    "retriever = vectorstore.as_retriever()"
   ]
  },
  {
   "cell_type": "code",
   "execution_count": 115,
   "id": "80af7939-cc74-4caa-b309-92a979e83630",
   "metadata": {},
   "outputs": [],
   "source": [
    "# RAG\n",
    "openrouter_client = ChatOpenAI(\n",
    "  base_url=\"https://openrouter.ai/api/v1\",\n",
    "  api_key=\"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\"\n",
    ")"
   ]
  },
  {
   "cell_type": "code",
   "execution_count": 116,
   "id": "765486ba",
   "metadata": {},
   "outputs": [],
   "source": [
    "vectorstore = PineconeVectorStore(index_name=\"customer-support\", embedding=hf_embeddings)\n",
    "\n",
    "index_name = 'customer-support'\n",
    "namespace = \"langchain-docs\""
   ]
  },
  {
   "cell_type": "code",
   "execution_count": 117,
   "id": "75a8b7e3",
   "metadata": {},
   "outputs": [],
   "source": [
    "template = \"\"\"Answer the question based only on the following context:\n",
    "{context}\n",
    "Question: {question}\"\"\"\n",
    "\n",
    "prompt = ChatPromptTemplate.from_template(template)"
   ]
  },
  {
   "cell_type": "code",
   "execution_count": 118,
   "id": "45cd9a89",
   "metadata": {},
   "outputs": [],
   "source": [
    "retreiver = vectorstore.as_retriever()\n",
    "\n",
    "chain = (\n",
    "  RunnableParallel({\"context\": retreiver, \"question\": RunnablePassthrough()})\n",
    "  | prompt\n",
    "  | openrouter_client\n",
    "  | StrOutputParser()\n",
    ")"
   ]
  },
  {
   "cell_type": "code",
   "execution_count": 119,
   "id": "489990ca",
   "metadata": {},
   "outputs": [
    {
     "data": {
      "text/plain": [
       "'Jonas is someone who has a deep understanding of happiness and the pursuit of meaning in life. He emphasizes the importance of living a life according to love and spiritual fullness rather than solely pursuing happiness. Jonas also shares a personal experience of giving up certain things in pursuit of his purpose, only to find unexpected fulfillment and success in areas he had not anticipated. He also has a family history marked by suffering, including surviving the Armenian and Assyrian genocides and the Nazi occupation of France, which seems to have influenced his views on life and purpose.'"
      ]
     },
     "execution_count": 119,
     "metadata": {},
     "output_type": "execute_result"
    }
   ],
   "source": [
    "chain.invoke(\"Tell me about jonas\")"
   ]
  }
 ],
 "metadata": {
  "kernelspec": {
   "display_name": "Python 3 (ipykernel)",
   "language": "python",
   "name": "python3"
  },
  "language_info": {
   "codemirror_mode": {
    "name": "ipython",
    "version": 3
   },
   "file_extension": ".py",
   "mimetype": "text/x-python",
   "name": "python",
   "nbconvert_exporter": "python",
   "pygments_lexer": "ipython3",
   "version": "3.12.2"
  }
 },
 "nbformat": 4,
 "nbformat_minor": 5
}
